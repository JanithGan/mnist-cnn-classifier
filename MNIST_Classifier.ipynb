{
  "nbformat": 4,
  "nbformat_minor": 0,
  "metadata": {
    "colab": {
      "name": "MNIST Classifier.ipynb",
      "provenance": [],
      "collapsed_sections": []
    },
    "kernelspec": {
      "name": "python3",
      "display_name": "Python 3"
    },
    "language_info": {
      "name": "python"
    }
  },
  "cells": [
    {
      "cell_type": "code",
      "execution_count": 1,
      "metadata": {
        "id": "0P7yRhQa9d7m"
      },
      "outputs": [],
      "source": [
        "import tensorflow as tf\n",
        "import numpy as np\n",
        "\n",
        "# MNIST Dataset\n",
        "(x_train_i, y_train_i), (x_test_i, y_test_i) = tf.keras.datasets.mnist.load_data()"
      ]
    },
    {
      "cell_type": "code",
      "source": [
        "import matplotlib.pyplot as plt\n",
        "\n",
        "def plot_as_grid(arr):\n",
        "    '''\n",
        "    Plot set of images as a grid\n",
        "    '''\n",
        "    for i in range(len(arr)):\n",
        "        plt.subplot(330 + 1 + i)\n",
        "        plt.axis('off')\n",
        "        plt.imshow(arr[i], cmap=plt.get_cmap('gray'))\n",
        "\n",
        "plot_as_grid(x_train_i[:9])\n",
        "plt.show()"
      ],
      "metadata": {
        "colab": {
          "base_uri": "https://localhost:8080/",
          "height": 248
        },
        "id": "rdvdDOMQK17O",
        "outputId": "b1da298c-8a20-49a7-c775-5387c2d6e317"
      },
      "execution_count": 2,
      "outputs": [
        {
          "output_type": "display_data",
          "data": {
            "image/png": "[encoded data removed]",
            "text/plain": [
              "<Figure size 432x288 with 9 Axes>"
            ]
          },
          "metadata": {
            "needs_background": "light"
          }
        }
      ]
    },
    {
      "cell_type": "code",
      "source": [
        "# Processing\n",
        "\n",
        "# Normalization\n",
        "x_train = x_train_i.astype(\"float32\") / 255\n",
        "x_test = x_test_i.astype(\"float32\") / 255\n",
        "\n",
        "# Shape (28, 28, 1)\n",
        "x_train = np.expand_dims(x_train, -1)\n",
        "x_test = np.expand_dims(x_test, -1)\n",
        "\n",
        "# One Hot Encoding\n",
        "y_train = tf.keras.utils.to_categorical(y_train_i, 10)\n",
        "y_test = tf.keras.utils.to_categorical(y_test_i, 10)\n",
        "\n",
        "input_shape = x_train[0].shape\n",
        "input_shape"
      ],
      "metadata": {
        "colab": {
          "base_uri": "https://localhost:8080/"
        },
        "id": "bifIUgtdlflY",
        "outputId": "49e647d6-9b21-4d2a-dcc6-883e3b001159"
      },
      "execution_count": 3,
      "outputs": [
        {
          "output_type": "execute_result",
          "data": {
            "text/plain": [
              "(28, 28, 1)"
            ]
          },
          "metadata": {},
          "execution_count": 3
        }
      ]
    },
    {
      "cell_type": "code",
      "source": [
        "import tensorflow as tf\n",
        "\n",
        "# Single Conv Layer CNN\n",
        "model = tf.keras.Sequential(\n",
        "    [\n",
        "        \n",
        "        tf.keras.layers.Conv2D(32, (3, 3), activation='relu', kernel_initializer='he_uniform', input_shape=(28, 28, 1)), \n",
        "        tf.keras.layers.MaxPooling2D((2, 2)),\n",
        "        tf.keras.layers.Flatten(), \n",
        "        tf.keras.layers.Dense(100, activation='relu', kernel_initializer='he_uniform'),\n",
        "        tf.keras.layers.Dense(10, activation='softmax')\n",
        "    ]\n",
        ")\n",
        "\n",
        "model.compile(optimizer='adam', loss='categorical_crossentropy', metrics=['accuracy'])"
      ],
      "metadata": {
        "id": "1Xe8S3xpLEEB"
      },
      "execution_count": 4,
      "outputs": []
    },
    {
      "cell_type": "code",
      "source": [
        "batch_size = 128\n",
        "epochs = 15\n",
        "\n",
        "model.fit(x_train, y_train, batch_size=batch_size, epochs=epochs, validation_split=0.1)"
      ],
      "metadata": {
        "colab": {
          "base_uri": "https://localhost:8080/"
        },
        "id": "uOCStge4vc-T",
        "outputId": "522f1a84-77b6-448e-a9b4-0872fd2f8e7d"
      },
      "execution_count": 5,
      "outputs": [
        {
          "output_type": "stream",
          "name": "stdout",
          "text": [
            "Epoch 1/15\n",
            "422/422 [==============================] - 24s 55ms/step - loss: 0.1820 - accuracy: 0.9446 - val_loss: 0.0757 - val_accuracy: 0.9782\n",
            "Epoch 2/15\n",
            "422/422 [==============================] - 22s 53ms/step - loss: 0.0620 - accuracy: 0.9804 - val_loss: 0.0603 - val_accuracy: 0.9825\n",
            "Epoch 3/15\n",
            "422/422 [==============================] - 22s 52ms/step - loss: 0.0385 - accuracy: 0.9881 - val_loss: 0.0605 - val_accuracy: 0.9842\n",
            "Epoch 4/15\n",
            "422/422 [==============================] - 22s 53ms/step - loss: 0.0263 - accuracy: 0.9918 - val_loss: 0.0608 - val_accuracy: 0.9837\n",
            "Epoch 5/15\n",
            "422/422 [==============================] - 22s 52ms/step - loss: 0.0198 - accuracy: 0.9938 - val_loss: 0.0496 - val_accuracy: 0.9857\n",
            "Epoch 6/15\n",
            "422/422 [==============================] - 22s 52ms/step - loss: 0.0136 - accuracy: 0.9959 - val_loss: 0.0560 - val_accuracy: 0.9873\n",
            "Epoch 7/15\n",
            "422/422 [==============================] - 22s 53ms/step - loss: 0.0115 - accuracy: 0.9967 - val_loss: 0.0572 - val_accuracy: 0.9857\n",
            "Epoch 8/15\n",
            "422/422 [==============================] - 22s 52ms/step - loss: 0.0074 - accuracy: 0.9979 - val_loss: 0.0646 - val_accuracy: 0.9845\n",
            "Epoch 9/15\n",
            "422/422 [==============================] - 22s 53ms/step - loss: 0.0067 - accuracy: 0.9980 - val_loss: 0.0845 - val_accuracy: 0.9838\n",
            "Epoch 10/15\n",
            "422/422 [==============================] - 22s 53ms/step - loss: 0.0100 - accuracy: 0.9965 - val_loss: 0.0675 - val_accuracy: 0.9862\n",
            "Epoch 11/15\n",
            "422/422 [==============================] - 22s 52ms/step - loss: 0.0059 - accuracy: 0.9983 - val_loss: 0.0583 - val_accuracy: 0.9888\n",
            "Epoch 12/15\n",
            "422/422 [==============================] - 22s 53ms/step - loss: 0.0037 - accuracy: 0.9990 - val_loss: 0.0622 - val_accuracy: 0.9873\n",
            "Epoch 13/15\n",
            "422/422 [==============================] - 22s 53ms/step - loss: 0.0060 - accuracy: 0.9982 - val_loss: 0.1149 - val_accuracy: 0.9770\n",
            "Epoch 14/15\n",
            "422/422 [==============================] - 22s 52ms/step - loss: 0.0070 - accuracy: 0.9976 - val_loss: 0.0588 - val_accuracy: 0.9882\n",
            "Epoch 15/15\n",
            "422/422 [==============================] - 22s 53ms/step - loss: 0.0035 - accuracy: 0.9989 - val_loss: 0.0648 - val_accuracy: 0.9890\n"
          ]
        },
        {
          "output_type": "execute_result",
          "data": {
            "text/plain": [
              "<keras.callbacks.History at 0x7f5f1b7abdd0>"
            ]
          },
          "metadata": {},
          "execution_count": 5
        }
      ]
    },
    {
      "cell_type": "code",
      "source": [
        "score = model.evaluate(x_test, y_test, verbose=0)\n",
        "print(\"Test loss:\", score[0])\n",
        "print(\"Test accuracy:\", score[1])"
      ],
      "metadata": {
        "colab": {
          "base_uri": "https://localhost:8080/"
        },
        "id": "VWQkMI8wkhfB",
        "outputId": "cde67a7a-963d-46ab-830a-32d62a5e11e9"
      },
      "execution_count": 6,
      "outputs": [
        {
          "output_type": "stream",
          "name": "stdout",
          "text": [
            "Test loss: 0.05767565220594406\n",
            "Test accuracy: 0.9857000112533569\n"
          ]
        }
      ]
    },
    {
      "cell_type": "code",
      "source": [
        "import cv2\n",
        "\n",
        "filenames = ['7_image1.png']\n",
        "test_images = []\n",
        "\n",
        "for fn in filenames:\n",
        "    test_img = cv2.imread(fn, cv2.IMREAD_GRAYSCALE)\n",
        "    test_img = cv2.resize(test_img, (28, 28), interpolation = cv2.INTER_AREA)\n",
        "    test_img = test_img.astype(\"float32\") / 255\n",
        "    test_images.append(test_img)\n",
        "\n",
        "\n",
        "plot_as_grid(test_images)"
      ],
      "metadata": {
        "colab": {
          "base_uri": "https://localhost:8080/",
          "height": 95
        },
        "id": "LeOoTvcfx-al",
        "outputId": "5ab3afcf-a59b-41c2-8413-4f11523d9e9b"
      },
      "execution_count": 7,
      "outputs": [
        {
          "output_type": "display_data",
          "data": {
            "image/png": "[encoded data removed]",
            "text/plain": [
              "<Figure size 432x288 with 1 Axes>"
            ]
          },
          "metadata": {
            "needs_background": "light"
          }
        }
      ]
    },
    {
      "cell_type": "code",
      "source": [
        "test_images = np.array(test_images)\n",
        "test_images = test_images.reshape(test_images.shape[0], 28, 28, 1)\n",
        "\n",
        "predictions = np.argmax(model.predict(test_images), axis=-1)\n",
        "predictions"
      ],
      "metadata": {
        "colab": {
          "base_uri": "https://localhost:8080/"
        },
        "id": "Fsph2OyEyDR3",
        "outputId": "8e55d0ee-4bd9-44a1-fb3c-26ee92f2bdfc"
      },
      "execution_count": 9,
      "outputs": [
        {
          "output_type": "execute_result",
          "data": {
            "text/plain": [
              "array([7])"
            ]
          },
          "metadata": {},
          "execution_count": 9
        }
      ]
    }
  ]
}